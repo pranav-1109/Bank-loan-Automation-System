{
 "cells": [
  {
   "cell_type": "markdown",
   "id": "3b40108d",
   "metadata": {
    "id": "3Itwi8HW-9P6",
    "papermill": {
     "duration": 0.030028,
     "end_time": "2021-10-24T06:10:32.364864",
     "exception": false,
     "start_time": "2021-10-24T06:10:32.334836",
     "status": "completed"
    },
    "tags": []
   },
   "source": [
    "**Importing dependencies and libraries**"
   ]
  },
  {
   "cell_type": "markdown",
   "id": "d510f593",
   "metadata": {
    "papermill": {
     "duration": 0.027576,
     "end_time": "2021-10-24T06:10:32.421038",
     "exception": false,
     "start_time": "2021-10-24T06:10:32.393462",
     "status": "completed"
    },
    "tags": []
   },
   "source": [
    "Aim: To predict if a person is eligible for a loan or not, using the various features in the dataset"
   ]
  },
  {
   "cell_type": "code",
   "execution_count": 1,
   "id": "012b0375",
   "metadata": {
    "execution": {
     "iopub.execute_input": "2021-10-24T06:10:32.488606Z",
     "iopub.status.busy": "2021-10-24T06:10:32.487656Z",
     "iopub.status.idle": "2021-10-24T06:10:34.018253Z",
     "shell.execute_reply": "2021-10-24T06:10:34.017392Z",
     "shell.execute_reply.started": "2021-10-24T06:06:31.526129Z"
    },
    "id": "UH1Bgx49msIs",
    "papermill": {
     "duration": 1.569623,
     "end_time": "2021-10-24T06:10:34.018463",
     "exception": false,
     "start_time": "2021-10-24T06:10:32.448840",
     "status": "completed"
    },
    "tags": []
   },
   "outputs": [],
   "source": [
    "import numpy as np\n",
    "import pandas as pd\n",
    "import seaborn as sns\n",
    "from sklearn.model_selection import train_test_split\n",
    "from sklearn import svm\n",
    "from sklearn.metrics import accuracy_score"
   ]
  },
  {
   "cell_type": "markdown",
   "id": "2ab22fe1",
   "metadata": {
    "id": "6Gvrw17q_zY5",
    "papermill": {
     "duration": 0.027976,
     "end_time": "2021-10-24T06:10:34.078659",
     "exception": false,
     "start_time": "2021-10-24T06:10:34.050683",
     "status": "completed"
    },
    "tags": []
   },
   "source": [
    "**EDA**\n",
    "\n",
    "Loan Status Dataset: https://www.kaggle.com/ninzaami/loan-predication"
   ]
  },
  {
   "cell_type": "code",
   "execution_count": 2,
   "id": "3d31dec2",
   "metadata": {
    "execution": {
     "iopub.execute_input": "2021-10-24T06:10:34.139320Z",
     "iopub.status.busy": "2021-10-24T06:10:34.138560Z",
     "iopub.status.idle": "2021-10-24T06:10:34.167175Z",
     "shell.execute_reply": "2021-10-24T06:10:34.167743Z",
     "shell.execute_reply.started": "2021-10-24T06:06:32.946208Z"
    },
    "id": "pdl2oWTy_xs4",
    "papermill": {
     "duration": 0.061652,
     "end_time": "2021-10-24T06:10:34.167929",
     "exception": false,
     "start_time": "2021-10-24T06:10:34.106277",
     "status": "completed"
    },
    "tags": []
   },
   "outputs": [],
   "source": [
    "# loading the dataset to pandas DataFrame\n",
    "loan_dataset = pd.read_csv('trainloan_generated.csv')"
   ]
  },
  {
   "cell_type": "code",
   "execution_count": 3,
   "id": "95c10738",
   "metadata": {
    "execution": {
     "iopub.execute_input": "2021-10-24T06:10:34.227045Z",
     "iopub.status.busy": "2021-10-24T06:10:34.226374Z",
     "iopub.status.idle": "2021-10-24T06:10:34.259023Z",
     "shell.execute_reply": "2021-10-24T06:10:34.259581Z",
     "shell.execute_reply.started": "2021-10-24T06:06:32.977127Z"
    },
    "id": "7rif01IcAVhj",
    "outputId": "2440952e-fda6-48c4-f881-215497574939",
    "papermill": {
     "duration": 0.06412,
     "end_time": "2021-10-24T06:10:34.259761",
     "exception": false,
     "start_time": "2021-10-24T06:10:34.195641",
     "status": "completed"
    },
    "tags": []
   },
   "outputs": [
    {
     "data": {
      "text/html": [
       "<div>\n",
       "<style scoped>\n",
       "    .dataframe tbody tr th:only-of-type {\n",
       "        vertical-align: middle;\n",
       "    }\n",
       "\n",
       "    .dataframe tbody tr th {\n",
       "        vertical-align: top;\n",
       "    }\n",
       "\n",
       "    .dataframe thead th {\n",
       "        text-align: right;\n",
       "    }\n",
       "</style>\n",
       "<table border=\"1\" class=\"dataframe\">\n",
       "  <thead>\n",
       "    <tr style=\"text-align: right;\">\n",
       "      <th></th>\n",
       "      <th>S No</th>\n",
       "      <th>Gender</th>\n",
       "      <th>Married</th>\n",
       "      <th>Dependents</th>\n",
       "      <th>Education</th>\n",
       "      <th>Self_Employed</th>\n",
       "      <th>ApplicantIncome</th>\n",
       "      <th>CoapplicantIncome</th>\n",
       "      <th>LoanAmount</th>\n",
       "      <th>Loan_Amount_Term</th>\n",
       "      <th>Credit_History</th>\n",
       "      <th>Property_Area</th>\n",
       "      <th>Loan_Status</th>\n",
       "    </tr>\n",
       "  </thead>\n",
       "  <tbody>\n",
       "    <tr>\n",
       "      <th>0</th>\n",
       "      <td>1</td>\n",
       "      <td>Male</td>\n",
       "      <td>No</td>\n",
       "      <td>0</td>\n",
       "      <td>Not Graduate</td>\n",
       "      <td>No</td>\n",
       "      <td>492000</td>\n",
       "      <td>100000</td>\n",
       "      <td>700000</td>\n",
       "      <td>3</td>\n",
       "      <td>1</td>\n",
       "      <td>Rural</td>\n",
       "      <td>N</td>\n",
       "    </tr>\n",
       "    <tr>\n",
       "      <th>1</th>\n",
       "      <td>2</td>\n",
       "      <td>Male</td>\n",
       "      <td>Yes</td>\n",
       "      <td>0</td>\n",
       "      <td>Graduate</td>\n",
       "      <td>No</td>\n",
       "      <td>309000</td>\n",
       "      <td>300000</td>\n",
       "      <td>900000</td>\n",
       "      <td>9</td>\n",
       "      <td>1</td>\n",
       "      <td>Urban</td>\n",
       "      <td>Y</td>\n",
       "    </tr>\n",
       "    <tr>\n",
       "      <th>2</th>\n",
       "      <td>3</td>\n",
       "      <td>Male</td>\n",
       "      <td>No</td>\n",
       "      <td>3</td>\n",
       "      <td>Not Graduate</td>\n",
       "      <td>No</td>\n",
       "      <td>757000</td>\n",
       "      <td>400000</td>\n",
       "      <td>1000000</td>\n",
       "      <td>5</td>\n",
       "      <td>1</td>\n",
       "      <td>Rural</td>\n",
       "      <td>Y</td>\n",
       "    </tr>\n",
       "    <tr>\n",
       "      <th>3</th>\n",
       "      <td>4</td>\n",
       "      <td>Male</td>\n",
       "      <td>Yes</td>\n",
       "      <td>0</td>\n",
       "      <td>Not Graduate</td>\n",
       "      <td>No</td>\n",
       "      <td>372000</td>\n",
       "      <td>300000</td>\n",
       "      <td>1000000</td>\n",
       "      <td>8</td>\n",
       "      <td>1</td>\n",
       "      <td>Urban</td>\n",
       "      <td>Y</td>\n",
       "    </tr>\n",
       "    <tr>\n",
       "      <th>4</th>\n",
       "      <td>5</td>\n",
       "      <td>Female</td>\n",
       "      <td>No</td>\n",
       "      <td>0</td>\n",
       "      <td>Not Graduate</td>\n",
       "      <td>No</td>\n",
       "      <td>687000</td>\n",
       "      <td>200000</td>\n",
       "      <td>700000</td>\n",
       "      <td>7</td>\n",
       "      <td>1</td>\n",
       "      <td>Urban</td>\n",
       "      <td>Y</td>\n",
       "    </tr>\n",
       "  </tbody>\n",
       "</table>\n",
       "</div>"
      ],
      "text/plain": [
       "   S No  Gender Married  Dependents     Education Self_Employed  \\\n",
       "0     1    Male      No           0  Not Graduate            No   \n",
       "1     2    Male     Yes           0      Graduate            No   \n",
       "2     3    Male      No           3  Not Graduate            No   \n",
       "3     4    Male     Yes           0  Not Graduate            No   \n",
       "4     5  Female      No           0  Not Graduate            No   \n",
       "\n",
       "   ApplicantIncome   CoapplicantIncome   LoanAmount  Loan_Amount_Term  \\\n",
       "0            492000              100000      700000                 3   \n",
       "1            309000              300000      900000                 9   \n",
       "2            757000              400000     1000000                 5   \n",
       "3            372000              300000     1000000                 8   \n",
       "4            687000              200000      700000                 7   \n",
       "\n",
       "   Credit_History Property_Area Loan_Status  \n",
       "0               1         Rural           N  \n",
       "1               1         Urban           Y  \n",
       "2               1         Rural           Y  \n",
       "3               1         Urban           Y  \n",
       "4               1         Urban           Y  "
      ]
     },
     "execution_count": 3,
     "metadata": {},
     "output_type": "execute_result"
    }
   ],
   "source": [
    "loan_dataset.head() # printing the first 5 rows of the dataframe"
   ]
  },
  {
   "cell_type": "code",
   "execution_count": 4,
   "id": "2b893dbb",
   "metadata": {
    "execution": {
     "iopub.execute_input": "2021-10-24T06:10:34.324993Z",
     "iopub.status.busy": "2021-10-24T06:10:34.324308Z",
     "iopub.status.idle": "2021-10-24T06:10:34.326823Z",
     "shell.execute_reply": "2021-10-24T06:10:34.327435Z",
     "shell.execute_reply.started": "2021-10-24T06:06:33.009853Z"
    },
    "id": "cadoapvyAdp7",
    "outputId": "f4b7d8a9-8002-410a-d0b2-56de3659c021",
    "papermill": {
     "duration": 0.03776,
     "end_time": "2021-10-24T06:10:34.327618",
     "exception": false,
     "start_time": "2021-10-24T06:10:34.289858",
     "status": "completed"
    },
    "tags": []
   },
   "outputs": [
    {
     "data": {
      "text/plain": [
       "(2000, 13)"
      ]
     },
     "execution_count": 4,
     "metadata": {},
     "output_type": "execute_result"
    }
   ],
   "source": [
    "loan_dataset.shape # number of rows and columns"
   ]
  },
  {
   "cell_type": "code",
   "execution_count": 5,
   "id": "0cfc29f3",
   "metadata": {
    "execution": {
     "iopub.execute_input": "2021-10-24T06:10:34.387937Z",
     "iopub.status.busy": "2021-10-24T06:10:34.387247Z",
     "iopub.status.idle": "2021-10-24T06:10:34.427730Z",
     "shell.execute_reply": "2021-10-24T06:10:34.427038Z",
     "shell.execute_reply.started": "2021-10-24T06:06:33.017817Z"
    },
    "id": "oCNhpj_aBZ8S",
    "outputId": "448af829-ad08-439c-c504-4be75d948c05",
    "papermill": {
     "duration": 0.072185,
     "end_time": "2021-10-24T06:10:34.427878",
     "exception": false,
     "start_time": "2021-10-24T06:10:34.355693",
     "status": "completed"
    },
    "tags": []
   },
   "outputs": [
    {
     "data": {
      "text/html": [
       "<div>\n",
       "<style scoped>\n",
       "    .dataframe tbody tr th:only-of-type {\n",
       "        vertical-align: middle;\n",
       "    }\n",
       "\n",
       "    .dataframe tbody tr th {\n",
       "        vertical-align: top;\n",
       "    }\n",
       "\n",
       "    .dataframe thead th {\n",
       "        text-align: right;\n",
       "    }\n",
       "</style>\n",
       "<table border=\"1\" class=\"dataframe\">\n",
       "  <thead>\n",
       "    <tr style=\"text-align: right;\">\n",
       "      <th></th>\n",
       "      <th>S No</th>\n",
       "      <th>Dependents</th>\n",
       "      <th>ApplicantIncome</th>\n",
       "      <th>CoapplicantIncome</th>\n",
       "      <th>LoanAmount</th>\n",
       "      <th>Loan_Amount_Term</th>\n",
       "      <th>Credit_History</th>\n",
       "    </tr>\n",
       "  </thead>\n",
       "  <tbody>\n",
       "    <tr>\n",
       "      <th>count</th>\n",
       "      <td>2000.000000</td>\n",
       "      <td>2000.000000</td>\n",
       "      <td>2000.000000</td>\n",
       "      <td>2000.000000</td>\n",
       "      <td>2000.000000</td>\n",
       "      <td>2000.000000</td>\n",
       "      <td>2000.000000</td>\n",
       "    </tr>\n",
       "    <tr>\n",
       "      <th>mean</th>\n",
       "      <td>1000.500000</td>\n",
       "      <td>1.515000</td>\n",
       "      <td>624174.000000</td>\n",
       "      <td>258500.000000</td>\n",
       "      <td>543350.000000</td>\n",
       "      <td>6.078500</td>\n",
       "      <td>0.908500</td>\n",
       "    </tr>\n",
       "    <tr>\n",
       "      <th>std</th>\n",
       "      <td>577.494589</td>\n",
       "      <td>1.107876</td>\n",
       "      <td>215546.437821</td>\n",
       "      <td>150196.636163</td>\n",
       "      <td>284317.068777</td>\n",
       "      <td>2.583346</td>\n",
       "      <td>0.288391</td>\n",
       "    </tr>\n",
       "    <tr>\n",
       "      <th>min</th>\n",
       "      <td>1.000000</td>\n",
       "      <td>0.000000</td>\n",
       "      <td>250000.000000</td>\n",
       "      <td>0.000000</td>\n",
       "      <td>100000.000000</td>\n",
       "      <td>2.000000</td>\n",
       "      <td>0.000000</td>\n",
       "    </tr>\n",
       "    <tr>\n",
       "      <th>25%</th>\n",
       "      <td>500.750000</td>\n",
       "      <td>1.000000</td>\n",
       "      <td>437000.000000</td>\n",
       "      <td>100000.000000</td>\n",
       "      <td>300000.000000</td>\n",
       "      <td>4.000000</td>\n",
       "      <td>1.000000</td>\n",
       "    </tr>\n",
       "    <tr>\n",
       "      <th>50%</th>\n",
       "      <td>1000.500000</td>\n",
       "      <td>2.000000</td>\n",
       "      <td>632500.000000</td>\n",
       "      <td>300000.000000</td>\n",
       "      <td>500000.000000</td>\n",
       "      <td>6.000000</td>\n",
       "      <td>1.000000</td>\n",
       "    </tr>\n",
       "    <tr>\n",
       "      <th>75%</th>\n",
       "      <td>1500.250000</td>\n",
       "      <td>2.000000</td>\n",
       "      <td>803000.000000</td>\n",
       "      <td>400000.000000</td>\n",
       "      <td>800000.000000</td>\n",
       "      <td>8.000000</td>\n",
       "      <td>1.000000</td>\n",
       "    </tr>\n",
       "    <tr>\n",
       "      <th>max</th>\n",
       "      <td>2000.000000</td>\n",
       "      <td>3.000000</td>\n",
       "      <td>1000000.000000</td>\n",
       "      <td>500000.000000</td>\n",
       "      <td>1000000.000000</td>\n",
       "      <td>10.000000</td>\n",
       "      <td>1.000000</td>\n",
       "    </tr>\n",
       "  </tbody>\n",
       "</table>\n",
       "</div>"
      ],
      "text/plain": [
       "              S No   Dependents  ApplicantIncome   CoapplicantIncome   \\\n",
       "count  2000.000000  2000.000000       2000.000000         2000.000000   \n",
       "mean   1000.500000     1.515000     624174.000000       258500.000000   \n",
       "std     577.494589     1.107876     215546.437821       150196.636163   \n",
       "min       1.000000     0.000000     250000.000000            0.000000   \n",
       "25%     500.750000     1.000000     437000.000000       100000.000000   \n",
       "50%    1000.500000     2.000000     632500.000000       300000.000000   \n",
       "75%    1500.250000     2.000000     803000.000000       400000.000000   \n",
       "max    2000.000000     3.000000    1000000.000000       500000.000000   \n",
       "\n",
       "           LoanAmount  Loan_Amount_Term  Credit_History  \n",
       "count     2000.000000       2000.000000     2000.000000  \n",
       "mean    543350.000000          6.078500        0.908500  \n",
       "std     284317.068777          2.583346        0.288391  \n",
       "min     100000.000000          2.000000        0.000000  \n",
       "25%     300000.000000          4.000000        1.000000  \n",
       "50%     500000.000000          6.000000        1.000000  \n",
       "75%     800000.000000          8.000000        1.000000  \n",
       "max    1000000.000000         10.000000        1.000000  "
      ]
     },
     "execution_count": 5,
     "metadata": {},
     "output_type": "execute_result"
    }
   ],
   "source": [
    "loan_dataset.describe() # statistical measures"
   ]
  },
  {
   "cell_type": "code",
   "execution_count": 6,
   "id": "0e659f64",
   "metadata": {
    "execution": {
     "iopub.execute_input": "2021-10-24T06:10:34.497220Z",
     "iopub.status.busy": "2021-10-24T06:10:34.489820Z",
     "iopub.status.idle": "2021-10-24T06:10:34.500796Z",
     "shell.execute_reply": "2021-10-24T06:10:34.501432Z",
     "shell.execute_reply.started": "2021-10-24T06:06:33.066185Z"
    },
    "id": "8Xp06TZ3Bt6S",
    "outputId": "2ab2382e-e609-472a-b516-eab535fa5d6d",
    "papermill": {
     "duration": 0.043988,
     "end_time": "2021-10-24T06:10:34.501643",
     "exception": false,
     "start_time": "2021-10-24T06:10:34.457655",
     "status": "completed"
    },
    "tags": []
   },
   "outputs": [
    {
     "data": {
      "text/plain": [
       "S No                  0\n",
       "Gender                0\n",
       "Married               0\n",
       "Dependents            0\n",
       "Education             0\n",
       "Self_Employed         0\n",
       "ApplicantIncome       0\n",
       "CoapplicantIncome     0\n",
       "LoanAmount            0\n",
       "Loan_Amount_Term      0\n",
       "Credit_History        0\n",
       "Property_Area         0\n",
       "Loan_Status           0\n",
       "dtype: int64"
      ]
     },
     "execution_count": 6,
     "metadata": {},
     "output_type": "execute_result"
    }
   ],
   "source": [
    "loan_dataset.isnull().sum() # number of missing values in each column"
   ]
  },
  {
   "cell_type": "code",
   "execution_count": 7,
   "id": "e7306366",
   "metadata": {
    "execution": {
     "iopub.execute_input": "2021-10-24T06:10:34.563999Z",
     "iopub.status.busy": "2021-10-24T06:10:34.563245Z",
     "iopub.status.idle": "2021-10-24T06:10:34.571544Z",
     "shell.execute_reply": "2021-10-24T06:10:34.572052Z",
     "shell.execute_reply.started": "2021-10-24T06:06:33.080672Z"
    },
    "id": "7vhG70dhCMHv",
    "papermill": {
     "duration": 0.041575,
     "end_time": "2021-10-24T06:10:34.572262",
     "exception": false,
     "start_time": "2021-10-24T06:10:34.530687",
     "status": "completed"
    },
    "tags": []
   },
   "outputs": [],
   "source": [
    "loan_dataset = loan_dataset.dropna() # dropping the missing values"
   ]
  },
  {
   "cell_type": "code",
   "execution_count": 8,
   "id": "aabf7321",
   "metadata": {
    "execution": {
     "iopub.execute_input": "2021-10-24T06:10:34.637949Z",
     "iopub.status.busy": "2021-10-24T06:10:34.637284Z",
     "iopub.status.idle": "2021-10-24T06:10:34.645898Z",
     "shell.execute_reply": "2021-10-24T06:10:34.646576Z",
     "shell.execute_reply.started": "2021-10-24T06:06:33.091971Z"
    },
    "id": "BMZ1CK97CqhY",
    "outputId": "f98b2594-ff21-4fe1-fa88-337fd9fe28d1",
    "papermill": {
     "duration": 0.045351,
     "end_time": "2021-10-24T06:10:34.646770",
     "exception": false,
     "start_time": "2021-10-24T06:10:34.601419",
     "status": "completed"
    },
    "tags": []
   },
   "outputs": [
    {
     "data": {
      "text/plain": [
       "S No                  0\n",
       "Gender                0\n",
       "Married               0\n",
       "Dependents            0\n",
       "Education             0\n",
       "Self_Employed         0\n",
       "ApplicantIncome       0\n",
       "CoapplicantIncome     0\n",
       "LoanAmount            0\n",
       "Loan_Amount_Term      0\n",
       "Credit_History        0\n",
       "Property_Area         0\n",
       "Loan_Status           0\n",
       "dtype: int64"
      ]
     },
     "execution_count": 8,
     "metadata": {},
     "output_type": "execute_result"
    }
   ],
   "source": [
    "loan_dataset.isnull().sum() # number of missing values in each column"
   ]
  },
  {
   "cell_type": "code",
   "execution_count": 9,
   "id": "393945f1",
   "metadata": {
    "execution": {
     "iopub.execute_input": "2021-10-24T06:10:34.716471Z",
     "iopub.status.busy": "2021-10-24T06:10:34.710770Z",
     "iopub.status.idle": "2021-10-24T06:10:34.719278Z",
     "shell.execute_reply": "2021-10-24T06:10:34.719819Z",
     "shell.execute_reply.started": "2021-10-24T06:06:33.105827Z"
    },
    "id": "F2j_jN_XCs6G",
    "papermill": {
     "duration": 0.043622,
     "end_time": "2021-10-24T06:10:34.720026",
     "exception": false,
     "start_time": "2021-10-24T06:10:34.676404",
     "status": "completed"
    },
    "tags": []
   },
   "outputs": [],
   "source": [
    "loan_dataset.replace({\"Loan_Status\":{'N':0,'Y':1}},inplace=True) # label encoding"
   ]
  },
  {
   "cell_type": "code",
   "execution_count": 10,
   "id": "0d30e65d",
   "metadata": {
    "execution": {
     "iopub.execute_input": "2021-10-24T06:10:34.801407Z",
     "iopub.status.busy": "2021-10-24T06:10:34.800682Z",
     "iopub.status.idle": "2021-10-24T06:10:34.805272Z",
     "shell.execute_reply": "2021-10-24T06:10:34.804693Z",
     "shell.execute_reply.started": "2021-10-24T06:06:33.118282Z"
    },
    "id": "MEbW0kjeDWLD",
    "outputId": "de02ea04-8f91-4a25-e267-22e69ba035c4",
    "papermill": {
     "duration": 0.055276,
     "end_time": "2021-10-24T06:10:34.805440",
     "exception": false,
     "start_time": "2021-10-24T06:10:34.750164",
     "status": "completed"
    },
    "tags": []
   },
   "outputs": [
    {
     "data": {
      "text/html": [
       "<div>\n",
       "<style scoped>\n",
       "    .dataframe tbody tr th:only-of-type {\n",
       "        vertical-align: middle;\n",
       "    }\n",
       "\n",
       "    .dataframe tbody tr th {\n",
       "        vertical-align: top;\n",
       "    }\n",
       "\n",
       "    .dataframe thead th {\n",
       "        text-align: right;\n",
       "    }\n",
       "</style>\n",
       "<table border=\"1\" class=\"dataframe\">\n",
       "  <thead>\n",
       "    <tr style=\"text-align: right;\">\n",
       "      <th></th>\n",
       "      <th>S No</th>\n",
       "      <th>Gender</th>\n",
       "      <th>Married</th>\n",
       "      <th>Dependents</th>\n",
       "      <th>Education</th>\n",
       "      <th>Self_Employed</th>\n",
       "      <th>ApplicantIncome</th>\n",
       "      <th>CoapplicantIncome</th>\n",
       "      <th>LoanAmount</th>\n",
       "      <th>Loan_Amount_Term</th>\n",
       "      <th>Credit_History</th>\n",
       "      <th>Property_Area</th>\n",
       "      <th>Loan_Status</th>\n",
       "    </tr>\n",
       "  </thead>\n",
       "  <tbody>\n",
       "    <tr>\n",
       "      <th>0</th>\n",
       "      <td>1</td>\n",
       "      <td>Male</td>\n",
       "      <td>No</td>\n",
       "      <td>0</td>\n",
       "      <td>Not Graduate</td>\n",
       "      <td>No</td>\n",
       "      <td>492000</td>\n",
       "      <td>100000</td>\n",
       "      <td>700000</td>\n",
       "      <td>3</td>\n",
       "      <td>1</td>\n",
       "      <td>Rural</td>\n",
       "      <td>0</td>\n",
       "    </tr>\n",
       "    <tr>\n",
       "      <th>1</th>\n",
       "      <td>2</td>\n",
       "      <td>Male</td>\n",
       "      <td>Yes</td>\n",
       "      <td>0</td>\n",
       "      <td>Graduate</td>\n",
       "      <td>No</td>\n",
       "      <td>309000</td>\n",
       "      <td>300000</td>\n",
       "      <td>900000</td>\n",
       "      <td>9</td>\n",
       "      <td>1</td>\n",
       "      <td>Urban</td>\n",
       "      <td>1</td>\n",
       "    </tr>\n",
       "    <tr>\n",
       "      <th>2</th>\n",
       "      <td>3</td>\n",
       "      <td>Male</td>\n",
       "      <td>No</td>\n",
       "      <td>3</td>\n",
       "      <td>Not Graduate</td>\n",
       "      <td>No</td>\n",
       "      <td>757000</td>\n",
       "      <td>400000</td>\n",
       "      <td>1000000</td>\n",
       "      <td>5</td>\n",
       "      <td>1</td>\n",
       "      <td>Rural</td>\n",
       "      <td>1</td>\n",
       "    </tr>\n",
       "    <tr>\n",
       "      <th>3</th>\n",
       "      <td>4</td>\n",
       "      <td>Male</td>\n",
       "      <td>Yes</td>\n",
       "      <td>0</td>\n",
       "      <td>Not Graduate</td>\n",
       "      <td>No</td>\n",
       "      <td>372000</td>\n",
       "      <td>300000</td>\n",
       "      <td>1000000</td>\n",
       "      <td>8</td>\n",
       "      <td>1</td>\n",
       "      <td>Urban</td>\n",
       "      <td>1</td>\n",
       "    </tr>\n",
       "    <tr>\n",
       "      <th>4</th>\n",
       "      <td>5</td>\n",
       "      <td>Female</td>\n",
       "      <td>No</td>\n",
       "      <td>0</td>\n",
       "      <td>Not Graduate</td>\n",
       "      <td>No</td>\n",
       "      <td>687000</td>\n",
       "      <td>200000</td>\n",
       "      <td>700000</td>\n",
       "      <td>7</td>\n",
       "      <td>1</td>\n",
       "      <td>Urban</td>\n",
       "      <td>1</td>\n",
       "    </tr>\n",
       "  </tbody>\n",
       "</table>\n",
       "</div>"
      ],
      "text/plain": [
       "   S No  Gender Married  Dependents     Education Self_Employed  \\\n",
       "0     1    Male      No           0  Not Graduate            No   \n",
       "1     2    Male     Yes           0      Graduate            No   \n",
       "2     3    Male      No           3  Not Graduate            No   \n",
       "3     4    Male     Yes           0  Not Graduate            No   \n",
       "4     5  Female      No           0  Not Graduate            No   \n",
       "\n",
       "   ApplicantIncome   CoapplicantIncome   LoanAmount  Loan_Amount_Term  \\\n",
       "0            492000              100000      700000                 3   \n",
       "1            309000              300000      900000                 9   \n",
       "2            757000              400000     1000000                 5   \n",
       "3            372000              300000     1000000                 8   \n",
       "4            687000              200000      700000                 7   \n",
       "\n",
       "   Credit_History Property_Area  Loan_Status  \n",
       "0               1         Rural            0  \n",
       "1               1         Urban            1  \n",
       "2               1         Rural            1  \n",
       "3               1         Urban            1  \n",
       "4               1         Urban            1  "
      ]
     },
     "execution_count": 10,
     "metadata": {},
     "output_type": "execute_result"
    }
   ],
   "source": [
    "loan_dataset.head() # printing the first 5 rows of the dataframe"
   ]
  },
  {
   "cell_type": "code",
   "execution_count": 11,
   "id": "71e9ffcd",
   "metadata": {
    "execution": {
     "iopub.execute_input": "2021-10-24T06:10:34.875342Z",
     "iopub.status.busy": "2021-10-24T06:10:34.872211Z",
     "iopub.status.idle": "2021-10-24T06:10:34.879928Z",
     "shell.execute_reply": "2021-10-24T06:10:34.879288Z",
     "shell.execute_reply.started": "2021-10-24T06:06:33.143495Z"
    },
    "id": "mDDPZ9AcDaAL",
    "outputId": "db3f316c-e12c-454c-fea0-eb0f6024e7aa",
    "papermill": {
     "duration": 0.044437,
     "end_time": "2021-10-24T06:10:34.880133",
     "exception": false,
     "start_time": "2021-10-24T06:10:34.835696",
     "status": "completed"
    },
    "tags": []
   },
   "outputs": [
    {
     "data": {
      "text/plain": [
       "Dependents\n",
       "2    528\n",
       "1    495\n",
       "3    493\n",
       "0    484\n",
       "Name: count, dtype: int64"
      ]
     },
     "execution_count": 11,
     "metadata": {},
     "output_type": "execute_result"
    }
   ],
   "source": [
    "loan_dataset['Dependents'].value_counts() # Dependent column values"
   ]
  },
  {
   "cell_type": "code",
   "execution_count": 12,
   "id": "4240c040",
   "metadata": {
    "execution": {
     "iopub.execute_input": "2021-10-24T06:10:34.949118Z",
     "iopub.status.busy": "2021-10-24T06:10:34.948233Z",
     "iopub.status.idle": "2021-10-24T06:10:34.953914Z",
     "shell.execute_reply": "2021-10-24T06:10:34.953279Z",
     "shell.execute_reply.started": "2021-10-24T06:06:33.157407Z"
    },
    "id": "WkE_kBJDEBbA",
    "papermill": {
     "duration": 0.042776,
     "end_time": "2021-10-24T06:10:34.954106",
     "exception": false,
     "start_time": "2021-10-24T06:10:34.911330",
     "status": "completed"
    },
    "tags": []
   },
   "outputs": [],
   "source": [
    "loan_dataset = loan_dataset.replace(to_replace='3+', value=3) # replacing the value of 3+ to 3"
   ]
  },
  {
   "cell_type": "code",
   "execution_count": 13,
   "id": "68dbbb73",
   "metadata": {
    "execution": {
     "iopub.execute_input": "2021-10-24T06:10:35.021229Z",
     "iopub.status.busy": "2021-10-24T06:10:35.020223Z",
     "iopub.status.idle": "2021-10-24T06:10:35.027162Z",
     "shell.execute_reply": "2021-10-24T06:10:35.027699Z",
     "shell.execute_reply.started": "2021-10-24T06:06:33.166195Z"
    },
    "id": "VWxrpy59Eg5m",
    "outputId": "6ccbb7ad-b688-45ee-c30d-3f102e0177df",
    "papermill": {
     "duration": 0.042559,
     "end_time": "2021-10-24T06:10:35.027907",
     "exception": false,
     "start_time": "2021-10-24T06:10:34.985348",
     "status": "completed"
    },
    "tags": []
   },
   "outputs": [
    {
     "data": {
      "text/plain": [
       "Dependents\n",
       "2    528\n",
       "1    495\n",
       "3    493\n",
       "0    484\n",
       "Name: count, dtype: int64"
      ]
     },
     "execution_count": 13,
     "metadata": {},
     "output_type": "execute_result"
    }
   ],
   "source": [
    "# dependent values\n",
    "loan_dataset['Dependents'].value_counts()"
   ]
  },
  {
   "cell_type": "code",
   "execution_count": 15,
   "id": "1648a836",
   "metadata": {
    "execution": {
     "iopub.execute_input": "2021-10-24T06:10:35.095395Z",
     "iopub.status.busy": "2021-10-24T06:10:35.094681Z",
     "iopub.status.idle": "2021-10-24T06:10:35.368569Z",
     "shell.execute_reply": "2021-10-24T06:10:35.367964Z",
     "shell.execute_reply.started": "2021-10-24T06:06:33.181964Z"
    },
    "id": "dnujp9ffErKo",
    "outputId": "6e91e4a0-e189-4568-ce7f-9da065b64fdf",
    "papermill": {
     "duration": 0.309078,
     "end_time": "2021-10-24T06:10:35.368715",
     "exception": false,
     "start_time": "2021-10-24T06:10:35.059637",
     "status": "completed"
    },
    "tags": []
   },
   "outputs": [
    {
     "name": "stderr",
     "output_type": "stream",
     "text": [
      "c:\\Users\\arige\\anaconda3\\lib\\site-packages\\seaborn\\_oldcore.py:1498: FutureWarning: is_categorical_dtype is deprecated and will be removed in a future version. Use isinstance(dtype, CategoricalDtype) instead\n",
      "  if pd.api.types.is_categorical_dtype(vector):\n",
      "c:\\Users\\arige\\anaconda3\\lib\\site-packages\\seaborn\\_oldcore.py:1498: FutureWarning: is_categorical_dtype is deprecated and will be removed in a future version. Use isinstance(dtype, CategoricalDtype) instead\n",
      "  if pd.api.types.is_categorical_dtype(vector):\n",
      "c:\\Users\\arige\\anaconda3\\lib\\site-packages\\seaborn\\_oldcore.py:1498: FutureWarning: is_categorical_dtype is deprecated and will be removed in a future version. Use isinstance(dtype, CategoricalDtype) instead\n",
      "  if pd.api.types.is_categorical_dtype(vector):\n",
      "c:\\Users\\arige\\anaconda3\\lib\\site-packages\\seaborn\\_oldcore.py:1498: FutureWarning: is_categorical_dtype is deprecated and will be removed in a future version. Use isinstance(dtype, CategoricalDtype) instead\n",
      "  if pd.api.types.is_categorical_dtype(vector):\n"
     ]
    },
    {
     "ename": "AttributeError",
     "evalue": "'numpy.int64' object has no attribute 'startswith'",
     "output_type": "error",
     "traceback": [
      "\u001b[1;31m---------------------------------------------------------------------------\u001b[0m",
      "\u001b[1;31mAttributeError\u001b[0m                            Traceback (most recent call last)",
      "\u001b[1;32mc:\\Users\\arige\\OneDrive\\Desktop\\Bank loan automation\\loan-status-prediction-using-svm.ipynb Cell 17\u001b[0m line \u001b[0;36m2\n\u001b[0;32m      <a href='vscode-notebook-cell:/c%3A/Users/arige/OneDrive/Desktop/Bank%20loan%20automation/loan-status-prediction-using-svm.ipynb#X22sZmlsZQ%3D%3D?line=0'>1</a>\u001b[0m \u001b[39m# education & Loan Status\u001b[39;00m\n\u001b[1;32m----> <a href='vscode-notebook-cell:/c%3A/Users/arige/OneDrive/Desktop/Bank%20loan%20automation/loan-status-prediction-using-svm.ipynb#X22sZmlsZQ%3D%3D?line=1'>2</a>\u001b[0m sns\u001b[39m.\u001b[39;49mcountplot(x\u001b[39m=\u001b[39;49m\u001b[39m'\u001b[39;49m\u001b[39mEducation\u001b[39;49m\u001b[39m'\u001b[39;49m,hue\u001b[39m=\u001b[39;49m\u001b[39m'\u001b[39;49m\u001b[39mLoan_Status\u001b[39;49m\u001b[39m'\u001b[39;49m,data\u001b[39m=\u001b[39;49mloan_dataset)\n",
      "File \u001b[1;32mc:\\Users\\arige\\anaconda3\\lib\\site-packages\\seaborn\\categorical.py:2955\u001b[0m, in \u001b[0;36mcountplot\u001b[1;34m(data, x, y, hue, order, hue_order, orient, color, palette, saturation, width, dodge, ax, **kwargs)\u001b[0m\n\u001b[0;32m   2952\u001b[0m \u001b[39mif\u001b[39;00m ax \u001b[39mis\u001b[39;00m \u001b[39mNone\u001b[39;00m:\n\u001b[0;32m   2953\u001b[0m     ax \u001b[39m=\u001b[39m plt\u001b[39m.\u001b[39mgca()\n\u001b[1;32m-> 2955\u001b[0m plotter\u001b[39m.\u001b[39;49mplot(ax, kwargs)\n\u001b[0;32m   2956\u001b[0m \u001b[39mreturn\u001b[39;00m ax\n",
      "File \u001b[1;32mc:\\Users\\arige\\anaconda3\\lib\\site-packages\\seaborn\\categorical.py:1587\u001b[0m, in \u001b[0;36m_BarPlotter.plot\u001b[1;34m(self, ax, bar_kws)\u001b[0m\n\u001b[0;32m   1585\u001b[0m \u001b[39m\u001b[39m\u001b[39m\"\"\"Make the plot.\"\"\"\u001b[39;00m\n\u001b[0;32m   1586\u001b[0m \u001b[39mself\u001b[39m\u001b[39m.\u001b[39mdraw_bars(ax, bar_kws)\n\u001b[1;32m-> 1587\u001b[0m \u001b[39mself\u001b[39;49m\u001b[39m.\u001b[39;49mannotate_axes(ax)\n\u001b[0;32m   1588\u001b[0m \u001b[39mif\u001b[39;00m \u001b[39mself\u001b[39m\u001b[39m.\u001b[39morient \u001b[39m==\u001b[39m \u001b[39m\"\u001b[39m\u001b[39mh\u001b[39m\u001b[39m\"\u001b[39m:\n\u001b[0;32m   1589\u001b[0m     ax\u001b[39m.\u001b[39minvert_yaxis()\n",
      "File \u001b[1;32mc:\\Users\\arige\\anaconda3\\lib\\site-packages\\seaborn\\categorical.py:767\u001b[0m, in \u001b[0;36m_CategoricalPlotter.annotate_axes\u001b[1;34m(self, ax)\u001b[0m\n\u001b[0;32m    764\u001b[0m     ax\u001b[39m.\u001b[39mset_ylim(\u001b[39m-\u001b[39m\u001b[39m.5\u001b[39m, \u001b[39mlen\u001b[39m(\u001b[39mself\u001b[39m\u001b[39m.\u001b[39mplot_data) \u001b[39m-\u001b[39m \u001b[39m.5\u001b[39m, auto\u001b[39m=\u001b[39m\u001b[39mNone\u001b[39;00m)\n\u001b[0;32m    766\u001b[0m \u001b[39mif\u001b[39;00m \u001b[39mself\u001b[39m\u001b[39m.\u001b[39mhue_names \u001b[39mis\u001b[39;00m \u001b[39mnot\u001b[39;00m \u001b[39mNone\u001b[39;00m:\n\u001b[1;32m--> 767\u001b[0m     ax\u001b[39m.\u001b[39;49mlegend(loc\u001b[39m=\u001b[39;49m\u001b[39m\"\u001b[39;49m\u001b[39mbest\u001b[39;49m\u001b[39m\"\u001b[39;49m, title\u001b[39m=\u001b[39;49m\u001b[39mself\u001b[39;49m\u001b[39m.\u001b[39;49mhue_title)\n",
      "File \u001b[1;32mc:\\Users\\arige\\anaconda3\\lib\\site-packages\\matplotlib\\axes\\_axes.py:322\u001b[0m, in \u001b[0;36mAxes.legend\u001b[1;34m(self, *args, **kwargs)\u001b[0m\n\u001b[0;32m    204\u001b[0m \u001b[39m@_docstring\u001b[39m\u001b[39m.\u001b[39mdedent_interpd\n\u001b[0;32m    205\u001b[0m \u001b[39mdef\u001b[39;00m \u001b[39mlegend\u001b[39m(\u001b[39mself\u001b[39m, \u001b[39m*\u001b[39margs, \u001b[39m*\u001b[39m\u001b[39m*\u001b[39mkwargs):\n\u001b[0;32m    206\u001b[0m \u001b[39m    \u001b[39m\u001b[39m\"\"\"\u001b[39;00m\n\u001b[0;32m    207\u001b[0m \u001b[39m    Place a legend on the Axes.\u001b[39;00m\n\u001b[0;32m    208\u001b[0m \n\u001b[1;32m   (...)\u001b[0m\n\u001b[0;32m    320\u001b[0m \u001b[39m    .. plot:: gallery/text_labels_and_annotations/legend.py\u001b[39;00m\n\u001b[0;32m    321\u001b[0m \u001b[39m    \"\"\"\u001b[39;00m\n\u001b[1;32m--> 322\u001b[0m     handles, labels, kwargs \u001b[39m=\u001b[39m mlegend\u001b[39m.\u001b[39m_parse_legend_args([\u001b[39mself\u001b[39m], \u001b[39m*\u001b[39margs, \u001b[39m*\u001b[39m\u001b[39m*\u001b[39mkwargs)\n\u001b[0;32m    323\u001b[0m     \u001b[39mself\u001b[39m\u001b[39m.\u001b[39mlegend_ \u001b[39m=\u001b[39m mlegend\u001b[39m.\u001b[39mLegend(\u001b[39mself\u001b[39m, handles, labels, \u001b[39m*\u001b[39m\u001b[39m*\u001b[39mkwargs)\n\u001b[0;32m    324\u001b[0m     \u001b[39mself\u001b[39m\u001b[39m.\u001b[39mlegend_\u001b[39m.\u001b[39m_remove_method \u001b[39m=\u001b[39m \u001b[39mself\u001b[39m\u001b[39m.\u001b[39m_remove_legend\n",
      "File \u001b[1;32mc:\\Users\\arige\\anaconda3\\lib\\site-packages\\matplotlib\\legend.py:1361\u001b[0m, in \u001b[0;36m_parse_legend_args\u001b[1;34m(axs, handles, labels, *args, **kwargs)\u001b[0m\n\u001b[0;32m   1357\u001b[0m     handles \u001b[39m=\u001b[39m [handle \u001b[39mfor\u001b[39;00m handle, label\n\u001b[0;32m   1358\u001b[0m                \u001b[39min\u001b[39;00m \u001b[39mzip\u001b[39m(_get_legend_handles(axs, handlers), labels)]\n\u001b[0;32m   1360\u001b[0m \u001b[39melif\u001b[39;00m \u001b[39mlen\u001b[39m(args) \u001b[39m==\u001b[39m \u001b[39m0\u001b[39m:  \u001b[39m# 0 args: automatically detect labels and handles.\u001b[39;00m\n\u001b[1;32m-> 1361\u001b[0m     handles, labels \u001b[39m=\u001b[39m _get_legend_handles_labels(axs, handlers)\n\u001b[0;32m   1362\u001b[0m     \u001b[39mif\u001b[39;00m \u001b[39mnot\u001b[39;00m handles:\n\u001b[0;32m   1363\u001b[0m         log\u001b[39m.\u001b[39mwarning(\n\u001b[0;32m   1364\u001b[0m             \u001b[39m\"\u001b[39m\u001b[39mNo artists with labels found to put in legend.  Note that \u001b[39m\u001b[39m\"\u001b[39m\n\u001b[0;32m   1365\u001b[0m             \u001b[39m\"\u001b[39m\u001b[39martists whose label start with an underscore are ignored \u001b[39m\u001b[39m\"\u001b[39m\n\u001b[0;32m   1366\u001b[0m             \u001b[39m\"\u001b[39m\u001b[39mwhen legend() is called with no argument.\u001b[39m\u001b[39m\"\u001b[39m)\n",
      "File \u001b[1;32mc:\\Users\\arige\\anaconda3\\lib\\site-packages\\matplotlib\\legend.py:1291\u001b[0m, in \u001b[0;36m_get_legend_handles_labels\u001b[1;34m(axs, legend_handler_map)\u001b[0m\n\u001b[0;32m   1289\u001b[0m \u001b[39mfor\u001b[39;00m handle \u001b[39min\u001b[39;00m _get_legend_handles(axs, legend_handler_map):\n\u001b[0;32m   1290\u001b[0m     label \u001b[39m=\u001b[39m handle\u001b[39m.\u001b[39mget_label()\n\u001b[1;32m-> 1291\u001b[0m     \u001b[39mif\u001b[39;00m label \u001b[39mand\u001b[39;00m \u001b[39mnot\u001b[39;00m label\u001b[39m.\u001b[39;49mstartswith(\u001b[39m'\u001b[39m\u001b[39m_\u001b[39m\u001b[39m'\u001b[39m):\n\u001b[0;32m   1292\u001b[0m         handles\u001b[39m.\u001b[39mappend(handle)\n\u001b[0;32m   1293\u001b[0m         labels\u001b[39m.\u001b[39mappend(label)\n",
      "\u001b[1;31mAttributeError\u001b[0m: 'numpy.int64' object has no attribute 'startswith'"
     ]
    },
    {
     "data": {
      "image/png": "[encoded data removed]",
      "text/plain": [
       "<Figure size 640x480 with 1 Axes>"
      ]
     },
     "metadata": {},
     "output_type": "display_data"
    }
   ],
   "source": [
    "# education & Loan Status\n",
    "sns.countplot(x='Education',hue='Loan_Status',data=loan_dataset)"
   ]
  },
  {
   "cell_type": "code",
   "execution_count": 16,
   "id": "f248a19b",
   "metadata": {
    "execution": {
     "iopub.execute_input": "2021-10-24T06:10:35.458841Z",
     "iopub.status.busy": "2021-10-24T06:10:35.456645Z",
     "iopub.status.idle": "2021-10-24T06:10:35.664887Z",
     "shell.execute_reply": "2021-10-24T06:10:35.664326Z",
     "shell.execute_reply.started": "2021-10-24T06:06:33.470611Z"
    },
    "id": "89aJ1gxoFUCF",
    "outputId": "c81f1c40-6990-4891-c158-10c66c6b0a8f",
    "papermill": {
     "duration": 0.264178,
     "end_time": "2021-10-24T06:10:35.665044",
     "exception": false,
     "start_time": "2021-10-24T06:10:35.400866",
     "status": "completed"
    },
    "tags": []
   },
   "outputs": [
    {
     "name": "stderr",
     "output_type": "stream",
     "text": [
      "c:\\Users\\arige\\anaconda3\\lib\\site-packages\\seaborn\\_oldcore.py:1498: FutureWarning: is_categorical_dtype is deprecated and will be removed in a future version. Use isinstance(dtype, CategoricalDtype) instead\n",
      "  if pd.api.types.is_categorical_dtype(vector):\n",
      "c:\\Users\\arige\\anaconda3\\lib\\site-packages\\seaborn\\_oldcore.py:1498: FutureWarning: is_categorical_dtype is deprecated and will be removed in a future version. Use isinstance(dtype, CategoricalDtype) instead\n",
      "  if pd.api.types.is_categorical_dtype(vector):\n",
      "c:\\Users\\arige\\anaconda3\\lib\\site-packages\\seaborn\\_oldcore.py:1498: FutureWarning: is_categorical_dtype is deprecated and will be removed in a future version. Use isinstance(dtype, CategoricalDtype) instead\n",
      "  if pd.api.types.is_categorical_dtype(vector):\n",
      "c:\\Users\\arige\\anaconda3\\lib\\site-packages\\seaborn\\_oldcore.py:1498: FutureWarning: is_categorical_dtype is deprecated and will be removed in a future version. Use isinstance(dtype, CategoricalDtype) instead\n",
      "  if pd.api.types.is_categorical_dtype(vector):\n"
     ]
    },
    {
     "ename": "AttributeError",
     "evalue": "'numpy.int64' object has no attribute 'startswith'",
     "output_type": "error",
     "traceback": [
      "\u001b[1;31m---------------------------------------------------------------------------\u001b[0m",
      "\u001b[1;31mAttributeError\u001b[0m                            Traceback (most recent call last)",
      "\u001b[1;32mc:\\Users\\arige\\OneDrive\\Desktop\\Bank loan automation\\loan-status-prediction-using-svm.ipynb Cell 18\u001b[0m line \u001b[0;36m2\n\u001b[0;32m      <a href='vscode-notebook-cell:/c%3A/Users/arige/OneDrive/Desktop/Bank%20loan%20automation/loan-status-prediction-using-svm.ipynb#X23sZmlsZQ%3D%3D?line=0'>1</a>\u001b[0m \u001b[39m# marital status & Loan Status\u001b[39;00m\n\u001b[1;32m----> <a href='vscode-notebook-cell:/c%3A/Users/arige/OneDrive/Desktop/Bank%20loan%20automation/loan-status-prediction-using-svm.ipynb#X23sZmlsZQ%3D%3D?line=1'>2</a>\u001b[0m sns\u001b[39m.\u001b[39;49mcountplot(x\u001b[39m=\u001b[39;49m\u001b[39m'\u001b[39;49m\u001b[39mMarried\u001b[39;49m\u001b[39m'\u001b[39;49m,hue\u001b[39m=\u001b[39;49m\u001b[39m'\u001b[39;49m\u001b[39mLoan_Status\u001b[39;49m\u001b[39m'\u001b[39;49m,data\u001b[39m=\u001b[39;49mloan_dataset)\n",
      "File \u001b[1;32mc:\\Users\\arige\\anaconda3\\lib\\site-packages\\seaborn\\categorical.py:2955\u001b[0m, in \u001b[0;36mcountplot\u001b[1;34m(data, x, y, hue, order, hue_order, orient, color, palette, saturation, width, dodge, ax, **kwargs)\u001b[0m\n\u001b[0;32m   2952\u001b[0m \u001b[39mif\u001b[39;00m ax \u001b[39mis\u001b[39;00m \u001b[39mNone\u001b[39;00m:\n\u001b[0;32m   2953\u001b[0m     ax \u001b[39m=\u001b[39m plt\u001b[39m.\u001b[39mgca()\n\u001b[1;32m-> 2955\u001b[0m plotter\u001b[39m.\u001b[39;49mplot(ax, kwargs)\n\u001b[0;32m   2956\u001b[0m \u001b[39mreturn\u001b[39;00m ax\n",
      "File \u001b[1;32mc:\\Users\\arige\\anaconda3\\lib\\site-packages\\seaborn\\categorical.py:1587\u001b[0m, in \u001b[0;36m_BarPlotter.plot\u001b[1;34m(self, ax, bar_kws)\u001b[0m\n\u001b[0;32m   1585\u001b[0m \u001b[39m\u001b[39m\u001b[39m\"\"\"Make the plot.\"\"\"\u001b[39;00m\n\u001b[0;32m   1586\u001b[0m \u001b[39mself\u001b[39m\u001b[39m.\u001b[39mdraw_bars(ax, bar_kws)\n\u001b[1;32m-> 1587\u001b[0m \u001b[39mself\u001b[39;49m\u001b[39m.\u001b[39;49mannotate_axes(ax)\n\u001b[0;32m   1588\u001b[0m \u001b[39mif\u001b[39;00m \u001b[39mself\u001b[39m\u001b[39m.\u001b[39morient \u001b[39m==\u001b[39m \u001b[39m\"\u001b[39m\u001b[39mh\u001b[39m\u001b[39m\"\u001b[39m:\n\u001b[0;32m   1589\u001b[0m     ax\u001b[39m.\u001b[39minvert_yaxis()\n",
      "File \u001b[1;32mc:\\Users\\arige\\anaconda3\\lib\\site-packages\\seaborn\\categorical.py:767\u001b[0m, in \u001b[0;36m_CategoricalPlotter.annotate_axes\u001b[1;34m(self, ax)\u001b[0m\n\u001b[0;32m    764\u001b[0m     ax\u001b[39m.\u001b[39mset_ylim(\u001b[39m-\u001b[39m\u001b[39m.5\u001b[39m, \u001b[39mlen\u001b[39m(\u001b[39mself\u001b[39m\u001b[39m.\u001b[39mplot_data) \u001b[39m-\u001b[39m \u001b[39m.5\u001b[39m, auto\u001b[39m=\u001b[39m\u001b[39mNone\u001b[39;00m)\n\u001b[0;32m    766\u001b[0m \u001b[39mif\u001b[39;00m \u001b[39mself\u001b[39m\u001b[39m.\u001b[39mhue_names \u001b[39mis\u001b[39;00m \u001b[39mnot\u001b[39;00m \u001b[39mNone\u001b[39;00m:\n\u001b[1;32m--> 767\u001b[0m     ax\u001b[39m.\u001b[39;49mlegend(loc\u001b[39m=\u001b[39;49m\u001b[39m\"\u001b[39;49m\u001b[39mbest\u001b[39;49m\u001b[39m\"\u001b[39;49m, title\u001b[39m=\u001b[39;49m\u001b[39mself\u001b[39;49m\u001b[39m.\u001b[39;49mhue_title)\n",
      "File \u001b[1;32mc:\\Users\\arige\\anaconda3\\lib\\site-packages\\matplotlib\\axes\\_axes.py:322\u001b[0m, in \u001b[0;36mAxes.legend\u001b[1;34m(self, *args, **kwargs)\u001b[0m\n\u001b[0;32m    204\u001b[0m \u001b[39m@_docstring\u001b[39m\u001b[39m.\u001b[39mdedent_interpd\n\u001b[0;32m    205\u001b[0m \u001b[39mdef\u001b[39;00m \u001b[39mlegend\u001b[39m(\u001b[39mself\u001b[39m, \u001b[39m*\u001b[39margs, \u001b[39m*\u001b[39m\u001b[39m*\u001b[39mkwargs):\n\u001b[0;32m    206\u001b[0m \u001b[39m    \u001b[39m\u001b[39m\"\"\"\u001b[39;00m\n\u001b[0;32m    207\u001b[0m \u001b[39m    Place a legend on the Axes.\u001b[39;00m\n\u001b[0;32m    208\u001b[0m \n\u001b[1;32m   (...)\u001b[0m\n\u001b[0;32m    320\u001b[0m \u001b[39m    .. plot:: gallery/text_labels_and_annotations/legend.py\u001b[39;00m\n\u001b[0;32m    321\u001b[0m \u001b[39m    \"\"\"\u001b[39;00m\n\u001b[1;32m--> 322\u001b[0m     handles, labels, kwargs \u001b[39m=\u001b[39m mlegend\u001b[39m.\u001b[39m_parse_legend_args([\u001b[39mself\u001b[39m], \u001b[39m*\u001b[39margs, \u001b[39m*\u001b[39m\u001b[39m*\u001b[39mkwargs)\n\u001b[0;32m    323\u001b[0m     \u001b[39mself\u001b[39m\u001b[39m.\u001b[39mlegend_ \u001b[39m=\u001b[39m mlegend\u001b[39m.\u001b[39mLegend(\u001b[39mself\u001b[39m, handles, labels, \u001b[39m*\u001b[39m\u001b[39m*\u001b[39mkwargs)\n\u001b[0;32m    324\u001b[0m     \u001b[39mself\u001b[39m\u001b[39m.\u001b[39mlegend_\u001b[39m.\u001b[39m_remove_method \u001b[39m=\u001b[39m \u001b[39mself\u001b[39m\u001b[39m.\u001b[39m_remove_legend\n",
      "File \u001b[1;32mc:\\Users\\arige\\anaconda3\\lib\\site-packages\\matplotlib\\legend.py:1361\u001b[0m, in \u001b[0;36m_parse_legend_args\u001b[1;34m(axs, handles, labels, *args, **kwargs)\u001b[0m\n\u001b[0;32m   1357\u001b[0m     handles \u001b[39m=\u001b[39m [handle \u001b[39mfor\u001b[39;00m handle, label\n\u001b[0;32m   1358\u001b[0m                \u001b[39min\u001b[39;00m \u001b[39mzip\u001b[39m(_get_legend_handles(axs, handlers), labels)]\n\u001b[0;32m   1360\u001b[0m \u001b[39melif\u001b[39;00m \u001b[39mlen\u001b[39m(args) \u001b[39m==\u001b[39m \u001b[39m0\u001b[39m:  \u001b[39m# 0 args: automatically detect labels and handles.\u001b[39;00m\n\u001b[1;32m-> 1361\u001b[0m     handles, labels \u001b[39m=\u001b[39m _get_legend_handles_labels(axs, handlers)\n\u001b[0;32m   1362\u001b[0m     \u001b[39mif\u001b[39;00m \u001b[39mnot\u001b[39;00m handles:\n\u001b[0;32m   1363\u001b[0m         log\u001b[39m.\u001b[39mwarning(\n\u001b[0;32m   1364\u001b[0m             \u001b[39m\"\u001b[39m\u001b[39mNo artists with labels found to put in legend.  Note that \u001b[39m\u001b[39m\"\u001b[39m\n\u001b[0;32m   1365\u001b[0m             \u001b[39m\"\u001b[39m\u001b[39martists whose label start with an underscore are ignored \u001b[39m\u001b[39m\"\u001b[39m\n\u001b[0;32m   1366\u001b[0m             \u001b[39m\"\u001b[39m\u001b[39mwhen legend() is called with no argument.\u001b[39m\u001b[39m\"\u001b[39m)\n",
      "File \u001b[1;32mc:\\Users\\arige\\anaconda3\\lib\\site-packages\\matplotlib\\legend.py:1291\u001b[0m, in \u001b[0;36m_get_legend_handles_labels\u001b[1;34m(axs, legend_handler_map)\u001b[0m\n\u001b[0;32m   1289\u001b[0m \u001b[39mfor\u001b[39;00m handle \u001b[39min\u001b[39;00m _get_legend_handles(axs, legend_handler_map):\n\u001b[0;32m   1290\u001b[0m     label \u001b[39m=\u001b[39m handle\u001b[39m.\u001b[39mget_label()\n\u001b[1;32m-> 1291\u001b[0m     \u001b[39mif\u001b[39;00m label \u001b[39mand\u001b[39;00m \u001b[39mnot\u001b[39;00m label\u001b[39m.\u001b[39;49mstartswith(\u001b[39m'\u001b[39m\u001b[39m_\u001b[39m\u001b[39m'\u001b[39m):\n\u001b[0;32m   1292\u001b[0m         handles\u001b[39m.\u001b[39mappend(handle)\n\u001b[0;32m   1293\u001b[0m         labels\u001b[39m.\u001b[39mappend(label)\n",
      "\u001b[1;31mAttributeError\u001b[0m: 'numpy.int64' object has no attribute 'startswith'"
     ]
    },
    {
     "data": {
      "image/png": "[encoded data removed]",
      "text/plain": [
       "<Figure size 640x480 with 1 Axes>"
      ]
     },
     "metadata": {},
     "output_type": "display_data"
    }
   ],
   "source": [
    "# marital status & Loan Status\n",
    "sns.countplot(x='Married',hue='Loan_Status',data=loan_dataset)"
   ]
  },
  {
   "cell_type": "code",
   "execution_count": 32,
   "id": "6478e56d",
   "metadata": {
    "execution": {
     "iopub.execute_input": "2021-10-24T06:10:35.737620Z",
     "iopub.status.busy": "2021-10-24T06:10:35.736612Z",
     "iopub.status.idle": "2021-10-24T06:10:35.749564Z",
     "shell.execute_reply": "2021-10-24T06:10:35.750043Z",
     "shell.execute_reply.started": "2021-10-24T06:06:33.711829Z"
    },
    "id": "Flk0RHzEGWXw",
    "papermill": {
     "duration": 0.052306,
     "end_time": "2021-10-24T06:10:35.750257",
     "exception": false,
     "start_time": "2021-10-24T06:10:35.697951",
     "status": "completed"
    },
    "tags": []
   },
   "outputs": [],
   "source": [
    "# convert categorical columns to numerical values\n",
    "loan_dataset.replace({'Married':{'No':0,'Yes':1},'Gender':{'Male':1,'Female':0},'Self_Employed':{'No':0,'Yes':1},\n",
    "                      'Property_Area':{'Rural':0,'Semiurban':1,'Semi-Rural':1,'#VALUE!':0,'Urban':2},'Education':{'Graduate':1,'Not Graduate':0}},inplace=True)"
   ]
  },
  {
   "cell_type": "code",
   "execution_count": 33,
   "id": "3ec15724",
   "metadata": {
    "execution": {
     "iopub.execute_input": "2021-10-24T06:10:35.821217Z",
     "iopub.status.busy": "2021-10-24T06:10:35.819871Z",
     "iopub.status.idle": "2021-10-24T06:10:35.838968Z",
     "shell.execute_reply": "2021-10-24T06:10:35.839513Z",
     "shell.execute_reply.started": "2021-10-24T06:06:33.728561Z"
    },
    "id": "CqrryB06IQ3R",
    "outputId": "1e8d0eaa-20c2-40d3-a22a-38677018f7f1",
    "papermill": {
     "duration": 0.056106,
     "end_time": "2021-10-24T06:10:35.839756",
     "exception": false,
     "start_time": "2021-10-24T06:10:35.783650",
     "status": "completed"
    },
    "tags": []
   },
   "outputs": [
    {
     "data": {
      "text/html": [
       "<div>\n",
       "<style scoped>\n",
       "    .dataframe tbody tr th:only-of-type {\n",
       "        vertical-align: middle;\n",
       "    }\n",
       "\n",
       "    .dataframe tbody tr th {\n",
       "        vertical-align: top;\n",
       "    }\n",
       "\n",
       "    .dataframe thead th {\n",
       "        text-align: right;\n",
       "    }\n",
       "</style>\n",
       "<table border=\"1\" class=\"dataframe\">\n",
       "  <thead>\n",
       "    <tr style=\"text-align: right;\">\n",
       "      <th></th>\n",
       "      <th>S No</th>\n",
       "      <th>Gender</th>\n",
       "      <th>Married</th>\n",
       "      <th>Dependents</th>\n",
       "      <th>Education</th>\n",
       "      <th>Self_Employed</th>\n",
       "      <th>ApplicantIncome</th>\n",
       "      <th>CoapplicantIncome</th>\n",
       "      <th>LoanAmount</th>\n",
       "      <th>Loan_Amount_Term</th>\n",
       "      <th>Credit_History</th>\n",
       "      <th>Property_Area</th>\n",
       "      <th>Loan_Status</th>\n",
       "    </tr>\n",
       "  </thead>\n",
       "  <tbody>\n",
       "    <tr>\n",
       "      <th>0</th>\n",
       "      <td>1</td>\n",
       "      <td>1</td>\n",
       "      <td>0</td>\n",
       "      <td>0</td>\n",
       "      <td>0</td>\n",
       "      <td>0</td>\n",
       "      <td>492000</td>\n",
       "      <td>100000</td>\n",
       "      <td>700000</td>\n",
       "      <td>3</td>\n",
       "      <td>1</td>\n",
       "      <td>0</td>\n",
       "      <td>0</td>\n",
       "    </tr>\n",
       "    <tr>\n",
       "      <th>1</th>\n",
       "      <td>2</td>\n",
       "      <td>1</td>\n",
       "      <td>1</td>\n",
       "      <td>0</td>\n",
       "      <td>1</td>\n",
       "      <td>0</td>\n",
       "      <td>309000</td>\n",
       "      <td>300000</td>\n",
       "      <td>900000</td>\n",
       "      <td>9</td>\n",
       "      <td>1</td>\n",
       "      <td>2</td>\n",
       "      <td>1</td>\n",
       "    </tr>\n",
       "    <tr>\n",
       "      <th>2</th>\n",
       "      <td>3</td>\n",
       "      <td>1</td>\n",
       "      <td>0</td>\n",
       "      <td>3</td>\n",
       "      <td>0</td>\n",
       "      <td>0</td>\n",
       "      <td>757000</td>\n",
       "      <td>400000</td>\n",
       "      <td>1000000</td>\n",
       "      <td>5</td>\n",
       "      <td>1</td>\n",
       "      <td>0</td>\n",
       "      <td>1</td>\n",
       "    </tr>\n",
       "    <tr>\n",
       "      <th>3</th>\n",
       "      <td>4</td>\n",
       "      <td>1</td>\n",
       "      <td>1</td>\n",
       "      <td>0</td>\n",
       "      <td>0</td>\n",
       "      <td>0</td>\n",
       "      <td>372000</td>\n",
       "      <td>300000</td>\n",
       "      <td>1000000</td>\n",
       "      <td>8</td>\n",
       "      <td>1</td>\n",
       "      <td>2</td>\n",
       "      <td>1</td>\n",
       "    </tr>\n",
       "    <tr>\n",
       "      <th>4</th>\n",
       "      <td>5</td>\n",
       "      <td>0</td>\n",
       "      <td>0</td>\n",
       "      <td>0</td>\n",
       "      <td>0</td>\n",
       "      <td>0</td>\n",
       "      <td>687000</td>\n",
       "      <td>200000</td>\n",
       "      <td>700000</td>\n",
       "      <td>7</td>\n",
       "      <td>1</td>\n",
       "      <td>2</td>\n",
       "      <td>1</td>\n",
       "    </tr>\n",
       "  </tbody>\n",
       "</table>\n",
       "</div>"
      ],
      "text/plain": [
       "   S No  Gender  Married  Dependents  Education  Self_Employed  \\\n",
       "0     1       1        0           0          0              0   \n",
       "1     2       1        1           0          1              0   \n",
       "2     3       1        0           3          0              0   \n",
       "3     4       1        1           0          0              0   \n",
       "4     5       0        0           0          0              0   \n",
       "\n",
       "   ApplicantIncome   CoapplicantIncome   LoanAmount  Loan_Amount_Term  \\\n",
       "0            492000              100000      700000                 3   \n",
       "1            309000              300000      900000                 9   \n",
       "2            757000              400000     1000000                 5   \n",
       "3            372000              300000     1000000                 8   \n",
       "4            687000              200000      700000                 7   \n",
       "\n",
       "   Credit_History  Property_Area  Loan_Status  \n",
       "0               1              0            0  \n",
       "1               1              2            1  \n",
       "2               1              0            1  \n",
       "3               1              2            1  \n",
       "4               1              2            1  "
      ]
     },
     "execution_count": 33,
     "metadata": {},
     "output_type": "execute_result"
    }
   ],
   "source": [
    "loan_dataset.head()"
   ]
  },
  {
   "cell_type": "code",
   "execution_count": 34,
   "id": "fb15c024",
   "metadata": {
    "execution": {
     "iopub.execute_input": "2021-10-24T06:10:35.917969Z",
     "iopub.status.busy": "2021-10-24T06:10:35.913013Z",
     "iopub.status.idle": "2021-10-24T06:10:35.921236Z",
     "shell.execute_reply": "2021-10-24T06:10:35.920589Z",
     "shell.execute_reply.started": "2021-10-24T06:06:33.754285Z"
    },
    "id": "jF5D9a3aIUn5",
    "papermill": {
     "duration": 0.046965,
     "end_time": "2021-10-24T06:10:35.921414",
     "exception": false,
     "start_time": "2021-10-24T06:10:35.874449",
     "status": "completed"
    },
    "tags": []
   },
   "outputs": [],
   "source": [
    "# separating the data and label\n",
    "X = loan_dataset.drop(columns=['S No','Loan_Status'],axis=1)\n",
    "Y = loan_dataset['Loan_Status']"
   ]
  },
  {
   "cell_type": "code",
   "execution_count": 35,
   "id": "8d24cfb5",
   "metadata": {
    "execution": {
     "iopub.execute_input": "2021-10-24T06:10:36.007350Z",
     "iopub.status.busy": "2021-10-24T06:10:36.006575Z",
     "iopub.status.idle": "2021-10-24T06:10:36.010826Z",
     "shell.execute_reply": "2021-10-24T06:10:36.011400Z",
     "shell.execute_reply.started": "2021-10-24T06:06:33.764350Z"
    },
    "id": "b-jNlYt-JIbs",
    "outputId": "cdb2aa78-5cd1-4490-f54c-72845f532382",
    "papermill": {
     "duration": 0.05524,
     "end_time": "2021-10-24T06:10:36.011622",
     "exception": false,
     "start_time": "2021-10-24T06:10:35.956382",
     "status": "completed"
    },
    "tags": []
   },
   "outputs": [
    {
     "name": "stdout",
     "output_type": "stream",
     "text": [
      "      Gender  Married  Dependents  Education  Self_Employed  ApplicantIncome   \\\n",
      "0          1        0           0          0              0            492000   \n",
      "1          1        1           0          1              0            309000   \n",
      "2          1        0           3          0              0            757000   \n",
      "3          1        1           0          0              0            372000   \n",
      "4          0        0           0          0              0            687000   \n",
      "...      ...      ...         ...        ...            ...               ...   \n",
      "1995       1        0           3          1              0            269000   \n",
      "1996       1        1           3          0              0            606000   \n",
      "1997       1        0           1          1              0            692000   \n",
      "1998       0        0           2          1              0            595000   \n",
      "1999       1        1           3          1              1            689000   \n",
      "\n",
      "      CoapplicantIncome   LoanAmount  Loan_Amount_Term  Credit_History  \\\n",
      "0                 100000      700000                 3               1   \n",
      "1                 300000      900000                 9               1   \n",
      "2                 400000     1000000                 5               1   \n",
      "3                 300000     1000000                 8               1   \n",
      "4                 200000      700000                 7               1   \n",
      "...                  ...         ...               ...             ...   \n",
      "1995              100000      800000                 3               1   \n",
      "1996              100000      800000                 7               1   \n",
      "1997              200000      200000                 7               1   \n",
      "1998              300000      400000                 4               1   \n",
      "1999              100000      200000                 4               0   \n",
      "\n",
      "      Property_Area  \n",
      "0                 0  \n",
      "1                 2  \n",
      "2                 0  \n",
      "3                 2  \n",
      "4                 2  \n",
      "...             ...  \n",
      "1995              2  \n",
      "1996              0  \n",
      "1997              0  \n",
      "1998              2  \n",
      "1999              1  \n",
      "\n",
      "[2000 rows x 11 columns]\n",
      "0       0\n",
      "1       1\n",
      "2       1\n",
      "3       1\n",
      "4       1\n",
      "       ..\n",
      "1995    0\n",
      "1996    1\n",
      "1997    1\n",
      "1998    1\n",
      "1999    1\n",
      "Name: Loan_Status, Length: 2000, dtype: int64\n"
     ]
    }
   ],
   "source": [
    "print(X)\n",
    "print(Y)"
   ]
  },
  {
   "cell_type": "markdown",
   "id": "fde43f6d",
   "metadata": {
    "id": "iOjT0xv2JVfO",
    "papermill": {
     "duration": 0.034354,
     "end_time": "2021-10-24T06:10:36.081336",
     "exception": false,
     "start_time": "2021-10-24T06:10:36.046982",
     "status": "completed"
    },
    "tags": []
   },
   "source": [
    "Train Test Split"
   ]
  },
  {
   "cell_type": "code",
   "execution_count": 36,
   "id": "d423538d",
   "metadata": {
    "execution": {
     "iopub.execute_input": "2021-10-24T06:10:36.154554Z",
     "iopub.status.busy": "2021-10-24T06:10:36.153889Z",
     "iopub.status.idle": "2021-10-24T06:10:36.163152Z",
     "shell.execute_reply": "2021-10-24T06:10:36.163818Z",
     "shell.execute_reply.started": "2021-10-24T06:06:33.788081Z"
    },
    "id": "p84EJrhcJKQM",
    "papermill": {
     "duration": 0.047385,
     "end_time": "2021-10-24T06:10:36.164024",
     "exception": false,
     "start_time": "2021-10-24T06:10:36.116639",
     "status": "completed"
    },
    "tags": []
   },
   "outputs": [],
   "source": [
    "X_train, X_test,Y_train,Y_test = train_test_split(X,Y,test_size=0.2,stratify=Y,random_state=42)"
   ]
  },
  {
   "cell_type": "code",
   "execution_count": 37,
   "id": "cd508686",
   "metadata": {
    "execution": {
     "iopub.execute_input": "2021-10-24T06:10:36.239458Z",
     "iopub.status.busy": "2021-10-24T06:10:36.238630Z",
     "iopub.status.idle": "2021-10-24T06:10:36.241585Z",
     "shell.execute_reply": "2021-10-24T06:10:36.242146Z",
     "shell.execute_reply.started": "2021-10-24T06:06:33.802612Z"
    },
    "id": "x7pYOaRCKKG3",
    "outputId": "bb48741d-f15c-486c-ef3c-d2722bbb82ef",
    "papermill": {
     "duration": 0.043612,
     "end_time": "2021-10-24T06:10:36.242361",
     "exception": false,
     "start_time": "2021-10-24T06:10:36.198749",
     "status": "completed"
    },
    "tags": []
   },
   "outputs": [
    {
     "name": "stdout",
     "output_type": "stream",
     "text": [
      "(2000, 11) (1600, 11) (400, 11)\n"
     ]
    }
   ],
   "source": [
    "print(X.shape, X_train.shape, X_test.shape)"
   ]
  },
  {
   "cell_type": "markdown",
   "id": "110b133b",
   "metadata": {
    "id": "fOobHS7iKZ4z",
    "papermill": {
     "duration": 0.03449,
     "end_time": "2021-10-24T06:10:36.312002",
     "exception": false,
     "start_time": "2021-10-24T06:10:36.277512",
     "status": "completed"
    },
    "tags": []
   },
   "source": [
    "**Training the model:**\n",
    "\n",
    "Support Vector Machine Model"
   ]
  },
  {
   "cell_type": "code",
   "execution_count": 38,
   "id": "67fb8c3e",
   "metadata": {
    "execution": {
     "iopub.execute_input": "2021-10-24T06:10:36.385908Z",
     "iopub.status.busy": "2021-10-24T06:10:36.385152Z",
     "iopub.status.idle": "2021-10-24T06:10:36.388852Z",
     "shell.execute_reply": "2021-10-24T06:10:36.389504Z",
     "shell.execute_reply.started": "2021-10-24T06:06:33.812130Z"
    },
    "id": "5O54v0U-KPy6",
    "papermill": {
     "duration": 0.042209,
     "end_time": "2021-10-24T06:10:36.389705",
     "exception": false,
     "start_time": "2021-10-24T06:10:36.347496",
     "status": "completed"
    },
    "tags": []
   },
   "outputs": [],
   "source": [
    "classifier = svm.SVC(kernel='linear')"
   ]
  },
  {
   "cell_type": "code",
   "execution_count": 39,
   "id": "4931bd91",
   "metadata": {
    "execution": {
     "iopub.execute_input": "2021-10-24T06:10:36.463135Z",
     "iopub.status.busy": "2021-10-24T06:10:36.462449Z",
     "iopub.status.idle": "2021-10-24T06:12:33.882507Z",
     "shell.execute_reply": "2021-10-24T06:12:33.883062Z",
     "shell.execute_reply.started": "2021-10-24T06:06:33.825970Z"
    },
    "id": "H3HfJbRgKtId",
    "outputId": "d0def908-25ac-4b38-8560-431a370bce5b",
    "papermill": {
     "duration": 117.458304,
     "end_time": "2021-10-24T06:12:33.883302",
     "exception": false,
     "start_time": "2021-10-24T06:10:36.424998",
     "status": "completed"
    },
    "tags": []
   },
   "outputs": [
    {
     "data": {
      "text/html": [
       "<style>#sk-container-id-1 {color: black;}#sk-container-id-1 pre{padding: 0;}#sk-container-id-1 div.sk-toggleable {background-color: white;}#sk-container-id-1 label.sk-toggleable__label {cursor: pointer;display: block;width: 100%;margin-bottom: 0;padding: 0.3em;box-sizing: border-box;text-align: center;}#sk-container-id-1 label.sk-toggleable__label-arrow:before {content: \"▸\";float: left;margin-right: 0.25em;color: #696969;}#sk-container-id-1 label.sk-toggleable__label-arrow:hover:before {color: black;}#sk-container-id-1 div.sk-estimator:hover label.sk-toggleable__label-arrow:before {color: black;}#sk-container-id-1 div.sk-toggleable__content {max-height: 0;max-width: 0;overflow: hidden;text-align: left;background-color: #f0f8ff;}#sk-container-id-1 div.sk-toggleable__content pre {margin: 0.2em;color: black;border-radius: 0.25em;background-color: #f0f8ff;}#sk-container-id-1 input.sk-toggleable__control:checked~div.sk-toggleable__content {max-height: 200px;max-width: 100%;overflow: auto;}#sk-container-id-1 input.sk-toggleable__control:checked~label.sk-toggleable__label-arrow:before {content: \"▾\";}#sk-container-id-1 div.sk-estimator input.sk-toggleable__control:checked~label.sk-toggleable__label {background-color: #d4ebff;}#sk-container-id-1 div.sk-label input.sk-toggleable__control:checked~label.sk-toggleable__label {background-color: #d4ebff;}#sk-container-id-1 input.sk-hidden--visually {border: 0;clip: rect(1px 1px 1px 1px);clip: rect(1px, 1px, 1px, 1px);height: 1px;margin: -1px;overflow: hidden;padding: 0;position: absolute;width: 1px;}#sk-container-id-1 div.sk-estimator {font-family: monospace;background-color: #f0f8ff;border: 1px dotted black;border-radius: 0.25em;box-sizing: border-box;margin-bottom: 0.5em;}#sk-container-id-1 div.sk-estimator:hover {background-color: #d4ebff;}#sk-container-id-1 div.sk-parallel-item::after {content: \"\";width: 100%;border-bottom: 1px solid gray;flex-grow: 1;}#sk-container-id-1 div.sk-label:hover label.sk-toggleable__label {background-color: #d4ebff;}#sk-container-id-1 div.sk-serial::before {content: \"\";position: absolute;border-left: 1px solid gray;box-sizing: border-box;top: 0;bottom: 0;left: 50%;z-index: 0;}#sk-container-id-1 div.sk-serial {display: flex;flex-direction: column;align-items: center;background-color: white;padding-right: 0.2em;padding-left: 0.2em;position: relative;}#sk-container-id-1 div.sk-item {position: relative;z-index: 1;}#sk-container-id-1 div.sk-parallel {display: flex;align-items: stretch;justify-content: center;background-color: white;position: relative;}#sk-container-id-1 div.sk-item::before, #sk-container-id-1 div.sk-parallel-item::before {content: \"\";position: absolute;border-left: 1px solid gray;box-sizing: border-box;top: 0;bottom: 0;left: 50%;z-index: -1;}#sk-container-id-1 div.sk-parallel-item {display: flex;flex-direction: column;z-index: 1;position: relative;background-color: white;}#sk-container-id-1 div.sk-parallel-item:first-child::after {align-self: flex-end;width: 50%;}#sk-container-id-1 div.sk-parallel-item:last-child::after {align-self: flex-start;width: 50%;}#sk-container-id-1 div.sk-parallel-item:only-child::after {width: 0;}#sk-container-id-1 div.sk-dashed-wrapped {border: 1px dashed gray;margin: 0 0.4em 0.5em 0.4em;box-sizing: border-box;padding-bottom: 0.4em;background-color: white;}#sk-container-id-1 div.sk-label label {font-family: monospace;font-weight: bold;display: inline-block;line-height: 1.2em;}#sk-container-id-1 div.sk-label-container {text-align: center;}#sk-container-id-1 div.sk-container {/* jupyter's `normalize.less` sets `[hidden] { display: none; }` but bootstrap.min.css set `[hidden] { display: none !important; }` so we also need the `!important` here to be able to override the default hidden behavior on the sphinx rendered scikit-learn.org. See: https://github.com/scikit-learn/scikit-learn/issues/21755 */display: inline-block !important;position: relative;}#sk-container-id-1 div.sk-text-repr-fallback {display: none;}</style><div id=\"sk-container-id-1\" class=\"sk-top-container\"><div class=\"sk-text-repr-fallback\"><pre>SVC(kernel=&#x27;linear&#x27;)</pre><b>In a Jupyter environment, please rerun this cell to show the HTML representation or trust the notebook. <br />On GitHub, the HTML representation is unable to render, please try loading this page with nbviewer.org.</b></div><div class=\"sk-container\" hidden><div class=\"sk-item\"><div class=\"sk-estimator sk-toggleable\"><input class=\"sk-toggleable__control sk-hidden--visually\" id=\"sk-estimator-id-1\" type=\"checkbox\" checked><label for=\"sk-estimator-id-1\" class=\"sk-toggleable__label sk-toggleable__label-arrow\">SVC</label><div class=\"sk-toggleable__content\"><pre>SVC(kernel=&#x27;linear&#x27;)</pre></div></div></div></div></div>"
      ],
      "text/plain": [
       "SVC(kernel='linear')"
      ]
     },
     "execution_count": 39,
     "metadata": {},
     "output_type": "execute_result"
    }
   ],
   "source": [
    "#training the support Vector Macine model\n",
    "classifier.fit(X_train,Y_train)"
   ]
  },
  {
   "cell_type": "markdown",
   "id": "c9422ca3",
   "metadata": {
    "id": "7CuMq2KKLdXs",
    "papermill": {
     "duration": 0.03504,
     "end_time": "2021-10-24T06:12:33.953471",
     "exception": false,
     "start_time": "2021-10-24T06:12:33.918431",
     "status": "completed"
    },
    "tags": []
   },
   "source": [
    "**Model Evaluation**"
   ]
  },
  {
   "cell_type": "code",
   "execution_count": 40,
   "id": "6162ef28",
   "metadata": {
    "execution": {
     "iopub.execute_input": "2021-10-24T06:12:34.029211Z",
     "iopub.status.busy": "2021-10-24T06:12:34.028370Z",
     "iopub.status.idle": "2021-10-24T06:12:34.037589Z",
     "shell.execute_reply": "2021-10-24T06:12:34.036969Z",
     "shell.execute_reply.started": "2021-10-24T06:08:31.627785Z"
    },
    "id": "xZneuWAIK4Qu",
    "papermill": {
     "duration": 0.047971,
     "end_time": "2021-10-24T06:12:34.037767",
     "exception": false,
     "start_time": "2021-10-24T06:12:33.989796",
     "status": "completed"
    },
    "tags": []
   },
   "outputs": [],
   "source": [
    "# accuracy score on training data\n",
    "X_train_prediction = classifier.predict(X_train)\n",
    "training_data_accuray = accuracy_score(X_train_prediction,Y_train)"
   ]
  },
  {
   "cell_type": "code",
   "execution_count": 41,
   "id": "f4d80387",
   "metadata": {
    "execution": {
     "iopub.execute_input": "2021-10-24T06:12:34.114910Z",
     "iopub.status.busy": "2021-10-24T06:12:34.114160Z",
     "iopub.status.idle": "2021-10-24T06:12:34.118623Z",
     "shell.execute_reply": "2021-10-24T06:12:34.119214Z",
     "shell.execute_reply.started": "2021-10-24T06:08:31.637680Z"
    },
    "id": "av8yolB9MCtG",
    "outputId": "de3a933e-cfec-4cc0-907d-fd2dd812b762",
    "papermill": {
     "duration": 0.045803,
     "end_time": "2021-10-24T06:12:34.119422",
     "exception": false,
     "start_time": "2021-10-24T06:12:34.073619",
     "status": "completed"
    },
    "tags": []
   },
   "outputs": [
    {
     "name": "stdout",
     "output_type": "stream",
     "text": [
      "Accuracy on training data :  0.879375\n"
     ]
    }
   ],
   "source": [
    "print('Accuracy on training data : ', training_data_accuray)"
   ]
  },
  {
   "cell_type": "code",
   "execution_count": 42,
   "id": "1ddf2fd4",
   "metadata": {
    "execution": {
     "iopub.execute_input": "2021-10-24T06:12:34.198520Z",
     "iopub.status.busy": "2021-10-24T06:12:34.194531Z",
     "iopub.status.idle": "2021-10-24T06:12:34.202277Z",
     "shell.execute_reply": "2021-10-24T06:12:34.202852Z",
     "shell.execute_reply.started": "2021-10-24T06:08:31.652849Z"
    },
    "id": "gVGYbc2uMLYn",
    "papermill": {
     "duration": 0.047855,
     "end_time": "2021-10-24T06:12:34.203068",
     "exception": false,
     "start_time": "2021-10-24T06:12:34.155213",
     "status": "completed"
    },
    "tags": []
   },
   "outputs": [],
   "source": [
    "# accuracy score on training data\n",
    "X_test_prediction = classifier.predict(X_test)\n",
    "test_data_accuray = accuracy_score(X_test_prediction,Y_test)"
   ]
  },
  {
   "cell_type": "code",
   "execution_count": 43,
   "id": "6652c295",
   "metadata": {
    "execution": {
     "iopub.execute_input": "2021-10-24T06:12:34.280582Z",
     "iopub.status.busy": "2021-10-24T06:12:34.279853Z",
     "iopub.status.idle": "2021-10-24T06:12:34.283020Z",
     "shell.execute_reply": "2021-10-24T06:12:34.283547Z",
     "shell.execute_reply.started": "2021-10-24T06:08:31.670861Z"
    },
    "id": "aou4ZalSMiyn",
    "outputId": "395edae2-f52c-4842-a062-7556f5bf8c8e",
    "papermill": {
     "duration": 0.044867,
     "end_time": "2021-10-24T06:12:34.283749",
     "exception": false,
     "start_time": "2021-10-24T06:12:34.238882",
     "status": "completed"
    },
    "tags": []
   },
   "outputs": [
    {
     "name": "stdout",
     "output_type": "stream",
     "text": [
      "Accuracy on test data :  0.88\n"
     ]
    }
   ],
   "source": [
    "print('Accuracy on test data : ', test_data_accuray)"
   ]
  },
  {
   "cell_type": "markdown",
   "id": "78d95332",
   "metadata": {
    "id": "-8qYe7OsNRlk",
    "papermill": {
     "duration": 0.035566,
     "end_time": "2021-10-24T06:12:34.355397",
     "exception": false,
     "start_time": "2021-10-24T06:12:34.319831",
     "status": "completed"
    },
    "tags": []
   },
   "source": [
    "**Making a predictive system**"
   ]
  },
  {
   "cell_type": "code",
   "execution_count": 46,
   "id": "f9371c6c",
   "metadata": {
    "execution": {
     "iopub.execute_input": "2021-10-24T06:12:34.435840Z",
     "iopub.status.busy": "2021-10-24T06:12:34.430940Z",
     "iopub.status.idle": "2021-10-24T06:12:34.439521Z",
     "shell.execute_reply": "2021-10-24T06:12:34.440056Z",
     "shell.execute_reply.started": "2021-10-24T06:08:31.685382Z"
    },
    "id": "cjoWNhtGMniu",
    "outputId": "3143dea6-3150-4767-a6c7-674406edddc5",
    "papermill": {
     "duration": 0.048852,
     "end_time": "2021-10-24T06:12:34.440279",
     "exception": false,
     "start_time": "2021-10-24T06:12:34.391427",
     "status": "completed"
    },
    "tags": []
   },
   "outputs": [
    {
     "name": "stdout",
     "output_type": "stream",
     "text": [
      "[1]\n",
      "\n",
      "The person is eligible for loan\n"
     ]
    },
    {
     "name": "stderr",
     "output_type": "stream",
     "text": [
      "c:\\Users\\arige\\anaconda3\\lib\\site-packages\\sklearn\\base.py:464: UserWarning: X does not have valid feature names, but SVC was fitted with feature names\n",
      "  warnings.warn(\n"
     ]
    }
   ],
   "source": [
    "input_data = (1,1,0,1,1,300000,0.0,400000,4,1.0,2)\n",
    "\n",
    "input_data_as_numpy_array = np.asarray(input_data) # changing the input_data to numpy array\n",
    "\n",
    "input_data_reshaped = input_data_as_numpy_array.reshape(1,-1) # reshape the array \n",
    "\n",
    "prediction = classifier.predict(input_data_reshaped)\n",
    "print(prediction)\n",
    "\n",
    "if (prediction[0] == 0):\n",
    "  print('The person is not eligible for loan')\n",
    "else:\n",
    "  print('\\nThe person is eligible for loan')"
   ]
  },
  {
   "cell_type": "markdown",
   "id": "4a281e27",
   "metadata": {},
   "source": [
    "## Importing the model into a joblib package\n"
   ]
  },
  {
   "cell_type": "code",
   "execution_count": 47,
   "id": "807b31cf",
   "metadata": {},
   "outputs": [],
   "source": [
    "import joblib"
   ]
  },
  {
   "cell_type": "code",
   "execution_count": 48,
   "id": "d143210d",
   "metadata": {},
   "outputs": [
    {
     "data": {
      "text/plain": [
       "['model1.pkl']"
      ]
     },
     "execution_count": 48,
     "metadata": {},
     "output_type": "execute_result"
    }
   ],
   "source": [
    "# Save the model to disk\n",
    "joblib.dump(classifier, 'model1.pkl')"
   ]
  },
  {
   "cell_type": "code",
   "execution_count": null,
   "id": "07d1b06b",
   "metadata": {},
   "outputs": [],
   "source": []
  }
 ],
 "metadata": {
  "kernelspec": {
   "display_name": "Python 3",
   "language": "python",
   "name": "python3"
  },
  "language_info": {
   "codemirror_mode": {
    "name": "ipython",
    "version": 3
   },
   "file_extension": ".py",
   "mimetype": "text/x-python",
   "name": "python",
   "nbconvert_exporter": "python",
   "pygments_lexer": "ipython3",
   "version": "3.10.13"
  },
  "papermill": {
   "default_parameters": {},
   "duration": 133.702269,
   "end_time": "2021-10-24T06:12:35.465670",
   "environment_variables": {},
   "exception": null,
   "input_path": "__notebook__.ipynb",
   "output_path": "__notebook__.ipynb",
   "parameters": {},
   "start_time": "2021-10-24T06:10:21.763401",
   "version": "2.3.3"
  }
 },
 "nbformat": 4,
 "nbformat_minor": 5
}
